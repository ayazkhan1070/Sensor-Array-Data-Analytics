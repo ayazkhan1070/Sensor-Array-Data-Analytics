{
  "metadata": {
    "kernelspec": {
      "language": "python",
      "display_name": "Python 3",
      "name": "python3"
    },
    "language_info": {
      "name": "python",
      "version": "3.10.13",
      "mimetype": "text/x-python",
      "codemirror_mode": {
        "name": "ipython",
        "version": 3
      },
      "pygments_lexer": "ipython3",
      "nbconvert_exporter": "python",
      "file_extension": ".py"
    },
    "kaggle": {
      "accelerator": "none",
      "dataSources": [
        {
          "sourceId": 8230806,
          "sourceType": "datasetVersion",
          "datasetId": 4881159
        },
        {
          "sourceId": 8230820,
          "sourceType": "datasetVersion",
          "datasetId": 4881170
        }
      ],
      "dockerImageVersionId": 30698,
      "isInternetEnabled": false,
      "language": "python",
      "sourceType": "notebook",
      "isGpuEnabled": false
    },
    "colab": {
      "name": "wilks lambda sensor",
      "provenance": []
    }
  },
  "nbformat_minor": 0,
  "nbformat": 4,
  "cells": [
    {
      "source": [
        "\n",
        "# IMPORTANT: RUN THIS CELL IN ORDER TO IMPORT YOUR KAGGLE DATA SOURCES\n",
        "# TO THE CORRECT LOCATION (/kaggle/input) IN YOUR NOTEBOOK,\n",
        "# THEN FEEL FREE TO DELETE THIS CELL.\n",
        "# NOTE: THIS NOTEBOOK ENVIRONMENT DIFFERS FROM KAGGLE'S PYTHON\n",
        "# ENVIRONMENT SO THERE MAY BE MISSING LIBRARIES USED BY YOUR\n",
        "# NOTEBOOK.\n",
        "\n",
        "import os\n",
        "import sys\n",
        "from tempfile import NamedTemporaryFile\n",
        "from urllib.request import urlopen\n",
        "from urllib.parse import unquote, urlparse\n",
        "from urllib.error import HTTPError\n",
        "from zipfile import ZipFile\n",
        "import tarfile\n",
        "import shutil\n",
        "\n",
        "CHUNK_SIZE = 40960\n",
        "DATA_SOURCE_MAPPING = 'sensor:https%3A%2F%2Fstorage.googleapis.com%2Fkaggle-data-sets%2F4881159%2F8230806%2Fbundle%2Farchive.zip%3FX-Goog-Algorithm%3DGOOG4-RSA-SHA256%26X-Goog-Credential%3Dgcp-kaggle-com%2540kaggle-161607.iam.gserviceaccount.com%252F20240426%252Fauto%252Fstorage%252Fgoog4_request%26X-Goog-Date%3D20240426T000557Z%26X-Goog-Expires%3D259200%26X-Goog-SignedHeaders%3Dhost%26X-Goog-Signature%3D8c5ad052b1e85442fe39568b7a8e251ef7807740d1fa77351806b0564300f53f3fbcac3065b92032e2ff7cb18c1ab406b73de885bc8f8acde6e103797aa5f5fbe5c8c45ed077199404c3d8b4f44c63c0d83ec319847ed935ba588fc26907ac91045099e821dee76b9f31506a0111fdcf62d28c6dc1b47b3a68f52053c60cf1d0b4d0fd5ac5d941b6dec741389cbba9227d84bdc1023bf22547a03ce759e90347ea73cc9990d7cbda1f22e75d536b1a6ac1ca09f620943732cf18b880b9ae9f38474527c1f1184060a80edcb687ce375977c914f36404f06d6ab726c337db9fed941f593dadf0055b4a24a70cabd0998b98332731629098547c25dc613b8fecc8,dcdata:https%3A%2F%2Fstorage.googleapis.com%2Fkaggle-data-sets%2F4881170%2F8230820%2Fbundle%2Farchive.zip%3FX-Goog-Algorithm%3DGOOG4-RSA-SHA256%26X-Goog-Credential%3Dgcp-kaggle-com%2540kaggle-161607.iam.gserviceaccount.com%252F20240426%252Fauto%252Fstorage%252Fgoog4_request%26X-Goog-Date%3D20240426T000557Z%26X-Goog-Expires%3D259200%26X-Goog-SignedHeaders%3Dhost%26X-Goog-Signature%3D0f4f762b9aece45d033d28142a5abad21b8b46d4dbe1088e0edcc72021a1c8a3c6c9339f63702ae5a144fc40be7bcaf1551880c7e98f4d3684d404050bd539f343e2162199fa4d68b5a92e4291b713dea1cb45dee693abbd3a9608d8f6f61be84b6e3828bbd9cf1a6d7c3175f1edd1e274bc88f14aed3f39b4ebbc72f4012a6cf094bed45bf84a25173806a826ba5dc60bd665b5fc7a6da4531a317232114f893bff47972d0ed4b5ee537c63779082bb05315b9b96eacaddb13899768e563dac330279a78fb104397f24affa62ce4d262069059303e555598ee7a374a4ac38f93a2e0302c6051bdb1424462a3e9a8c6bf20da6649b36ae3026b0718385f8d3c5'\n",
        "\n",
        "KAGGLE_INPUT_PATH='/kaggle/input'\n",
        "KAGGLE_WORKING_PATH='/kaggle/working'\n",
        "KAGGLE_SYMLINK='kaggle'\n",
        "\n",
        "!umount /kaggle/input/ 2> /dev/null\n",
        "shutil.rmtree('/kaggle/input', ignore_errors=True)\n",
        "os.makedirs(KAGGLE_INPUT_PATH, 0o777, exist_ok=True)\n",
        "os.makedirs(KAGGLE_WORKING_PATH, 0o777, exist_ok=True)\n",
        "\n",
        "try:\n",
        "  os.symlink(KAGGLE_INPUT_PATH, os.path.join(\"..\", 'input'), target_is_directory=True)\n",
        "except FileExistsError:\n",
        "  pass\n",
        "try:\n",
        "  os.symlink(KAGGLE_WORKING_PATH, os.path.join(\"..\", 'working'), target_is_directory=True)\n",
        "except FileExistsError:\n",
        "  pass\n",
        "\n",
        "for data_source_mapping in DATA_SOURCE_MAPPING.split(','):\n",
        "    directory, download_url_encoded = data_source_mapping.split(':')\n",
        "    download_url = unquote(download_url_encoded)\n",
        "    filename = urlparse(download_url).path\n",
        "    destination_path = os.path.join(KAGGLE_INPUT_PATH, directory)\n",
        "    try:\n",
        "        with urlopen(download_url) as fileres, NamedTemporaryFile() as tfile:\n",
        "            total_length = fileres.headers['content-length']\n",
        "            print(f'Downloading {directory}, {total_length} bytes compressed')\n",
        "            dl = 0\n",
        "            data = fileres.read(CHUNK_SIZE)\n",
        "            while len(data) > 0:\n",
        "                dl += len(data)\n",
        "                tfile.write(data)\n",
        "                done = int(50 * dl / int(total_length))\n",
        "                sys.stdout.write(f\"\\r[{'=' * done}{' ' * (50-done)}] {dl} bytes downloaded\")\n",
        "                sys.stdout.flush()\n",
        "                data = fileres.read(CHUNK_SIZE)\n",
        "            if filename.endswith('.zip'):\n",
        "              with ZipFile(tfile) as zfile:\n",
        "                zfile.extractall(destination_path)\n",
        "            else:\n",
        "              with tarfile.open(tfile.name) as tarfile:\n",
        "                tarfile.extractall(destination_path)\n",
        "            print(f'\\nDownloaded and uncompressed: {directory}')\n",
        "    except HTTPError as e:\n",
        "        print(f'Failed to load (likely expired) {download_url} to path {destination_path}')\n",
        "        continue\n",
        "    except OSError as e:\n",
        "        print(f'Failed to load {download_url} to path {destination_path}')\n",
        "        continue\n",
        "\n",
        "print('Data source import complete.')\n"
      ],
      "metadata": {
        "id": "d_3zJGyCuRtX"
      },
      "cell_type": "code",
      "outputs": [],
      "execution_count": null
    },
    {
      "cell_type": "code",
      "source": [],
      "metadata": {
        "_uuid": "8f2839f25d086af736a60e9eeb907d3b93b6e0e5",
        "_cell_guid": "b1076dfc-b9ad-4769-8c92-a6c4dae69d19",
        "trusted": true,
        "id": "ls68ephxuRta"
      },
      "execution_count": null,
      "outputs": []
    },
    {
      "cell_type": "code",
      "source": [
        "import pandas as pd\n",
        "import numpy as np\n",
        "import math"
      ],
      "metadata": {
        "execution": {
          "iopub.status.busy": "2024-04-25T22:05:09.887175Z"
        },
        "trusted": true,
        "id": "FhXRW-hUuRtb"
      },
      "execution_count": null,
      "outputs": []
    },
    {
      "cell_type": "code",
      "source": [
        "df=pd.read_csv('/kaggle/input/dcdata/sensor_data_csv.csv')\n",
        "df"
      ],
      "metadata": {
        "execution": {
          "iopub.status.busy": "2024-04-25T22:28:20.188596Z",
          "iopub.execute_input": "2024-04-25T22:28:20.189053Z",
          "iopub.status.idle": "2024-04-25T22:28:20.21476Z",
          "shell.execute_reply.started": "2024-04-25T22:28:20.18901Z",
          "shell.execute_reply": "2024-04-25T22:28:20.213539Z"
        },
        "trusted": true,
        "id": "tGE_8Pv-uRtb",
        "outputId": "fae779b4-63a9-45c6-bdac-25381d88e401"
      },
      "execution_count": null,
      "outputs": [
        {
          "execution_count": 53,
          "output_type": "execute_result",
          "data": {
            "text/plain": "    Num  Sensor     G1     G2      G3      G4      G5\n0     1  S1_245  6.151  6.199   4.184   4.539   4.369\n1     2  S2_245  5.280  5.042  13.327   4.934   2.014\n2     3  S3_245  3.355  3.279   8.918   2.780   1.697\n3     4  S4_245  4.012  4.227   3.751   3.297   3.539\n4     5  S1_285  5.506  5.051   3.312   5.377   6.678\n5     6  S2_285  5.137  5.246  13.328   5.178   3.293\n6     7  S3_285  3.349  3.424   8.645   2.943   3.026\n7     8  S4_285  3.761  3.505   1.339   3.203   4.906\n8     9  S1_310  3.281  4.240   2.162   4.695   5.683\n9    10  S2_310  3.868  4.467   5.959   4.261   2.429\n10   11  S3_310  2.343  2.942   4.412   2.659   2.086\n11   12  S4_310  2.379  3.123   0.656   3.382   4.215\n12   13  S1_325  5.602  4.847   0.967   5.645   3.837\n13   14  S2_325  6.575  6.261   8.528   7.570   4.847\n14   15  S3_325  4.504  4.313   6.255   5.108   4.545\n15   16  S4_325  4.315  3.532   0.344   4.158   3.236\n16   17  S1_340  8.000  7.980   0.657   7.088   9.669\n17   18  S2_340  9.593  9.301   6.875  10.997  11.023\n18   19  S3_340  6.978  7.248   6.101   7.328  10.353\n19   20  S4_340  6.013  5.773   0.372   4.859   8.554",
            "text/html": "<div>\n<style scoped>\n    .dataframe tbody tr th:only-of-type {\n        vertical-align: middle;\n    }\n\n    .dataframe tbody tr th {\n        vertical-align: top;\n    }\n\n    .dataframe thead th {\n        text-align: right;\n    }\n</style>\n<table border=\"1\" class=\"dataframe\">\n  <thead>\n    <tr style=\"text-align: right;\">\n      <th></th>\n      <th>Num</th>\n      <th>Sensor</th>\n      <th>G1</th>\n      <th>G2</th>\n      <th>G3</th>\n      <th>G4</th>\n      <th>G5</th>\n    </tr>\n  </thead>\n  <tbody>\n    <tr>\n      <th>0</th>\n      <td>1</td>\n      <td>S1_245</td>\n      <td>6.151</td>\n      <td>6.199</td>\n      <td>4.184</td>\n      <td>4.539</td>\n      <td>4.369</td>\n    </tr>\n    <tr>\n      <th>1</th>\n      <td>2</td>\n      <td>S2_245</td>\n      <td>5.280</td>\n      <td>5.042</td>\n      <td>13.327</td>\n      <td>4.934</td>\n      <td>2.014</td>\n    </tr>\n    <tr>\n      <th>2</th>\n      <td>3</td>\n      <td>S3_245</td>\n      <td>3.355</td>\n      <td>3.279</td>\n      <td>8.918</td>\n      <td>2.780</td>\n      <td>1.697</td>\n    </tr>\n    <tr>\n      <th>3</th>\n      <td>4</td>\n      <td>S4_245</td>\n      <td>4.012</td>\n      <td>4.227</td>\n      <td>3.751</td>\n      <td>3.297</td>\n      <td>3.539</td>\n    </tr>\n    <tr>\n      <th>4</th>\n      <td>5</td>\n      <td>S1_285</td>\n      <td>5.506</td>\n      <td>5.051</td>\n      <td>3.312</td>\n      <td>5.377</td>\n      <td>6.678</td>\n    </tr>\n    <tr>\n      <th>5</th>\n      <td>6</td>\n      <td>S2_285</td>\n      <td>5.137</td>\n      <td>5.246</td>\n      <td>13.328</td>\n      <td>5.178</td>\n      <td>3.293</td>\n    </tr>\n    <tr>\n      <th>6</th>\n      <td>7</td>\n      <td>S3_285</td>\n      <td>3.349</td>\n      <td>3.424</td>\n      <td>8.645</td>\n      <td>2.943</td>\n      <td>3.026</td>\n    </tr>\n    <tr>\n      <th>7</th>\n      <td>8</td>\n      <td>S4_285</td>\n      <td>3.761</td>\n      <td>3.505</td>\n      <td>1.339</td>\n      <td>3.203</td>\n      <td>4.906</td>\n    </tr>\n    <tr>\n      <th>8</th>\n      <td>9</td>\n      <td>S1_310</td>\n      <td>3.281</td>\n      <td>4.240</td>\n      <td>2.162</td>\n      <td>4.695</td>\n      <td>5.683</td>\n    </tr>\n    <tr>\n      <th>9</th>\n      <td>10</td>\n      <td>S2_310</td>\n      <td>3.868</td>\n      <td>4.467</td>\n      <td>5.959</td>\n      <td>4.261</td>\n      <td>2.429</td>\n    </tr>\n    <tr>\n      <th>10</th>\n      <td>11</td>\n      <td>S3_310</td>\n      <td>2.343</td>\n      <td>2.942</td>\n      <td>4.412</td>\n      <td>2.659</td>\n      <td>2.086</td>\n    </tr>\n    <tr>\n      <th>11</th>\n      <td>12</td>\n      <td>S4_310</td>\n      <td>2.379</td>\n      <td>3.123</td>\n      <td>0.656</td>\n      <td>3.382</td>\n      <td>4.215</td>\n    </tr>\n    <tr>\n      <th>12</th>\n      <td>13</td>\n      <td>S1_325</td>\n      <td>5.602</td>\n      <td>4.847</td>\n      <td>0.967</td>\n      <td>5.645</td>\n      <td>3.837</td>\n    </tr>\n    <tr>\n      <th>13</th>\n      <td>14</td>\n      <td>S2_325</td>\n      <td>6.575</td>\n      <td>6.261</td>\n      <td>8.528</td>\n      <td>7.570</td>\n      <td>4.847</td>\n    </tr>\n    <tr>\n      <th>14</th>\n      <td>15</td>\n      <td>S3_325</td>\n      <td>4.504</td>\n      <td>4.313</td>\n      <td>6.255</td>\n      <td>5.108</td>\n      <td>4.545</td>\n    </tr>\n    <tr>\n      <th>15</th>\n      <td>16</td>\n      <td>S4_325</td>\n      <td>4.315</td>\n      <td>3.532</td>\n      <td>0.344</td>\n      <td>4.158</td>\n      <td>3.236</td>\n    </tr>\n    <tr>\n      <th>16</th>\n      <td>17</td>\n      <td>S1_340</td>\n      <td>8.000</td>\n      <td>7.980</td>\n      <td>0.657</td>\n      <td>7.088</td>\n      <td>9.669</td>\n    </tr>\n    <tr>\n      <th>17</th>\n      <td>18</td>\n      <td>S2_340</td>\n      <td>9.593</td>\n      <td>9.301</td>\n      <td>6.875</td>\n      <td>10.997</td>\n      <td>11.023</td>\n    </tr>\n    <tr>\n      <th>18</th>\n      <td>19</td>\n      <td>S3_340</td>\n      <td>6.978</td>\n      <td>7.248</td>\n      <td>6.101</td>\n      <td>7.328</td>\n      <td>10.353</td>\n    </tr>\n    <tr>\n      <th>19</th>\n      <td>20</td>\n      <td>S4_340</td>\n      <td>6.013</td>\n      <td>5.773</td>\n      <td>0.372</td>\n      <td>4.859</td>\n      <td>8.554</td>\n    </tr>\n  </tbody>\n</table>\n</div>"
          },
          "metadata": {}
        }
      ]
    },
    {
      "cell_type": "code",
      "source": [
        "# Converting pandas dataframe to numpy array for computation\n",
        "numpy_array = df.values\n",
        "numpy_array = numpy_array[:, 1:]\n",
        "print(numpy_array)\n",
        "print(numpy_array.shape)\n",
        "Sensors = df['Sensor'].values\n",
        "print(Sensors)"
      ],
      "metadata": {
        "execution": {
          "iopub.status.busy": "2024-04-25T22:30:59.667457Z",
          "iopub.execute_input": "2024-04-25T22:30:59.667871Z",
          "iopub.status.idle": "2024-04-25T22:30:59.675089Z",
          "shell.execute_reply.started": "2024-04-25T22:30:59.667846Z",
          "shell.execute_reply": "2024-04-25T22:30:59.674202Z"
        },
        "trusted": true,
        "id": "hi7CskTauRtc",
        "outputId": "2eb29071-3f6d-4ce2-f7b6-9008a23421f0"
      },
      "execution_count": null,
      "outputs": [
        {
          "name": "stdout",
          "text": "[['S1_245' 6.151 6.199 4.184 4.539 4.369]\n ['S2_245' 5.28 5.042 13.327 4.934 2.014]\n ['S3_245' 3.355 3.279 8.918 2.78 1.697]\n ['S4_245' 4.012 4.227 3.751 3.297 3.539]\n ['S1_285' 5.506 5.051 3.312 5.377 6.678]\n ['S2_285' 5.137 5.246 13.328 5.178 3.293]\n ['S3_285' 3.349 3.424 8.645 2.943 3.026]\n ['S4_285' 3.761 3.505 1.339 3.203 4.906]\n ['S1_310' 3.281 4.24 2.162 4.695 5.683]\n ['S2_310' 3.868 4.467 5.959 4.261 2.429]\n ['S3_310' 2.343 2.942 4.412 2.659 2.086]\n ['S4_310' 2.379 3.123 0.656 3.382 4.215]\n ['S1_325' 5.602 4.847 0.967 5.645 3.837]\n ['S2_325' 6.575 6.261 8.528 7.57 4.847]\n ['S3_325' 4.504 4.313 6.255 5.108 4.545]\n ['S4_325' 4.315 3.532 0.344 4.158 3.236]\n ['S1_340' 8.0 7.98 0.657 7.088 9.669]\n ['S2_340' 9.593 9.301 6.875 10.997 11.023]\n ['S3_340' 6.978 7.248 6.101 7.328 10.353]\n ['S4_340' 6.013 5.773 0.372 4.859 8.554]]\n(20, 6)\n['S1_245' 'S2_245' 'S3_245' 'S4_245' 'S1_285' 'S2_285' 'S3_285' 'S4_285'\n 'S1_310' 'S2_310' 'S3_310' 'S4_310' 'S1_325' 'S2_325' 'S3_325' 'S4_325'\n 'S1_340' 'S2_340' 'S3_340' 'S4_340']\n",
          "output_type": "stream"
        }
      ]
    },
    {
      "cell_type": "code",
      "source": [
        "import numpy as np\n",
        "\n",
        "def calculate_U(data, Sensors):\n",
        "    num_sensors, num_gases = data.shape\n",
        "\n",
        "    U_values = {}\n",
        "\n",
        "    for sensor_idx in range(num_sensors):\n",
        "        sensor_values = data[sensor_idx, 1:]\n",
        "        print(sensor_values)\n",
        "        sensor_mean = np.mean(sensor_values)\n",
        "\n",
        "        W = np.sum((sensor_values - sensor_mean) ** 2)\n",
        "        overall_mean = np.mean(data[:,1:])\n",
        "\n",
        "        B = num_gases * ((sensor_mean - overall_mean) ** 2)\n",
        "        print(B)\n",
        "\n",
        "        U = W / (W + B)\n",
        "\n",
        "        U_values[Sensors[sensor_idx]] = U\n",
        "\n",
        "    return U_values\n",
        "\n",
        "U_values = calculate_U(numpy_array, Sensors)\n",
        "\n",
        "Sorted_Sensors = sorted(U_values, key=U_values.get, reverse=True)\n",
        "print(U_values)\n",
        "\n",
        "print(\"Top 3 Sensors : \")\n",
        "i = 0\n",
        "for key in Sorted_Sensors:\n",
        "  if(i >= 3):\n",
        "    break\n",
        "  print(key, \":\", U_values[key])\n",
        "  i += 1\n"
      ],
      "metadata": {
        "execution": {
          "iopub.status.busy": "2024-04-25T23:05:06.578634Z",
          "iopub.execute_input": "2024-04-25T23:05:06.579289Z",
          "iopub.status.idle": "2024-04-25T23:05:06.594665Z",
          "shell.execute_reply.started": "2024-04-25T23:05:06.579257Z",
          "shell.execute_reply": "2024-04-25T23:05:06.593419Z"
        },
        "trusted": true,
        "id": "717B_uHWuRtd",
        "outputId": "770e6619-ff6b-475e-ff01-2ca9e8f3ac8b"
      },
      "execution_count": null,
      "outputs": [
        {
          "name": "stdout",
          "text": "[6.151 6.199 4.184 4.539 4.369]\n0.045895509600001036\n[5.28 5.042 13.327 4.934 2.014]\n7.5057166296000215\n[3.355 3.279 8.918 2.78 1.697]\n5.941821717599991\n[4.012 4.227 3.751 3.297 3.539]\n9.162320085599985\n[5.506 5.051 3.312 5.377 6.678]\n0.20282699760000228\n[5.137 5.246 13.328 5.178 3.293]\n12.36327246960003\n[3.349 3.424 8.645 2.943 3.026]\n3.141060789599991\n[3.761 3.505 1.339 3.203 4.906]\n16.49656955759999\n[3.281 4.24 2.162 4.695 5.683]\n5.865640725599989\n[3.868 4.467 5.959 4.261 2.429]\n3.8798468375999944\n[2.343 2.942 4.412 2.659 2.086]\n26.77695150959998\n[2.379 3.123 0.656 3.382 4.215]\n30.373380021599967\n[5.602 4.847 0.967 5.645 3.837]\n4.047596373599993\n[6.575 6.261 8.528 7.57 4.847]\n18.485626005600015\n[4.504 4.313 6.255 5.108 4.545]\n0.018775701599999174\n[4.315 3.532 0.344 4.158 3.236]\n21.295379541599978\n[8.0 7.98 0.657 7.088 9.669]\n16.891285077600035\n[9.593 9.301 6.875 10.997 11.023]\n124.58983835760006\n[6.978 7.248 6.101 7.328 10.353]\n40.58059461360001\n[6.013 5.773 0.372 4.859 8.554]\n0.07696696560000049\n{'S1_245': 0.9886559067117067, 'S2_245': 0.9056834744866863, 'S3_245': 0.8430433566156904, 'S4_245': 0.056118773485589565, 'S1_285': 0.9667380351860431, 'S2_285': 0.8338882693887357, 'S3_285': 0.8843234885061525, 'S4_285': 0.28820838520511255, 'S1_310': 0.5533736034281659, 'S2_310': 0.623153088424077, 'S3_310': 0.11025581568736065, 'S4_310': 0.19178097854819193, 'S1_325': 0.7881040571463889, 'S2_325': 0.2947182906982019, 'S3_325': 0.9925355501908716, 'S4_325': 0.3280132883549825, 'S1_340': 0.7429059133858181, 'S2_340': 0.08438666755242448, 'S3_340': 0.20416730248786405, 'S4_340': 0.9978443426283923}\nTop 3 Sensors : \nS4_340 : 0.9978443426283923\nS3_325 : 0.9925355501908716\nS1_245 : 0.9886559067117067\n",
          "output_type": "stream"
        }
      ]
    },
    {
      "cell_type": "code",
      "source": [
        "df_transposed = df.set_index('Sensor').T\n",
        "df_transposed"
      ],
      "metadata": {
        "trusted": true,
        "id": "AmVGoMFTuRtd",
        "outputId": "b0eace43-5224-4d10-be50-d106a2fa7313"
      },
      "execution_count": null,
      "outputs": [
        {
          "execution_count": 58,
          "output_type": "execute_result",
          "data": {
            "text/plain": "Sensor  S1_245  S2_245  S3_245  S4_245  S1_285  S2_285  S3_285  S4_285  \\\nNum      1.000   2.000   3.000   4.000   5.000   6.000   7.000   8.000   \nG1       6.151   5.280   3.355   4.012   5.506   5.137   3.349   3.761   \nG2       6.199   5.042   3.279   4.227   5.051   5.246   3.424   3.505   \nG3       4.184  13.327   8.918   3.751   3.312  13.328   8.645   1.339   \nG4       4.539   4.934   2.780   3.297   5.377   5.178   2.943   3.203   \nG5       4.369   2.014   1.697   3.539   6.678   3.293   3.026   4.906   \n\nSensor  S1_310  S2_310  S3_310  S4_310  S1_325  S2_325  S3_325  S4_325  \\\nNum      9.000  10.000  11.000  12.000  13.000  14.000  15.000  16.000   \nG1       3.281   3.868   2.343   2.379   5.602   6.575   4.504   4.315   \nG2       4.240   4.467   2.942   3.123   4.847   6.261   4.313   3.532   \nG3       2.162   5.959   4.412   0.656   0.967   8.528   6.255   0.344   \nG4       4.695   4.261   2.659   3.382   5.645   7.570   5.108   4.158   \nG5       5.683   2.429   2.086   4.215   3.837   4.847   4.545   3.236   \n\nSensor  S1_340  S2_340  S3_340  S4_340  \nNum     17.000  18.000  19.000  20.000  \nG1       8.000   9.593   6.978   6.013  \nG2       7.980   9.301   7.248   5.773  \nG3       0.657   6.875   6.101   0.372  \nG4       7.088  10.997   7.328   4.859  \nG5       9.669  11.023  10.353   8.554  ",
            "text/html": "<div>\n<style scoped>\n    .dataframe tbody tr th:only-of-type {\n        vertical-align: middle;\n    }\n\n    .dataframe tbody tr th {\n        vertical-align: top;\n    }\n\n    .dataframe thead th {\n        text-align: right;\n    }\n</style>\n<table border=\"1\" class=\"dataframe\">\n  <thead>\n    <tr style=\"text-align: right;\">\n      <th>Sensor</th>\n      <th>S1_245</th>\n      <th>S2_245</th>\n      <th>S3_245</th>\n      <th>S4_245</th>\n      <th>S1_285</th>\n      <th>S2_285</th>\n      <th>S3_285</th>\n      <th>S4_285</th>\n      <th>S1_310</th>\n      <th>S2_310</th>\n      <th>S3_310</th>\n      <th>S4_310</th>\n      <th>S1_325</th>\n      <th>S2_325</th>\n      <th>S3_325</th>\n      <th>S4_325</th>\n      <th>S1_340</th>\n      <th>S2_340</th>\n      <th>S3_340</th>\n      <th>S4_340</th>\n    </tr>\n  </thead>\n  <tbody>\n    <tr>\n      <th>Num</th>\n      <td>1.000</td>\n      <td>2.000</td>\n      <td>3.000</td>\n      <td>4.000</td>\n      <td>5.000</td>\n      <td>6.000</td>\n      <td>7.000</td>\n      <td>8.000</td>\n      <td>9.000</td>\n      <td>10.000</td>\n      <td>11.000</td>\n      <td>12.000</td>\n      <td>13.000</td>\n      <td>14.000</td>\n      <td>15.000</td>\n      <td>16.000</td>\n      <td>17.000</td>\n      <td>18.000</td>\n      <td>19.000</td>\n      <td>20.000</td>\n    </tr>\n    <tr>\n      <th>G1</th>\n      <td>6.151</td>\n      <td>5.280</td>\n      <td>3.355</td>\n      <td>4.012</td>\n      <td>5.506</td>\n      <td>5.137</td>\n      <td>3.349</td>\n      <td>3.761</td>\n      <td>3.281</td>\n      <td>3.868</td>\n      <td>2.343</td>\n      <td>2.379</td>\n      <td>5.602</td>\n      <td>6.575</td>\n      <td>4.504</td>\n      <td>4.315</td>\n      <td>8.000</td>\n      <td>9.593</td>\n      <td>6.978</td>\n      <td>6.013</td>\n    </tr>\n    <tr>\n      <th>G2</th>\n      <td>6.199</td>\n      <td>5.042</td>\n      <td>3.279</td>\n      <td>4.227</td>\n      <td>5.051</td>\n      <td>5.246</td>\n      <td>3.424</td>\n      <td>3.505</td>\n      <td>4.240</td>\n      <td>4.467</td>\n      <td>2.942</td>\n      <td>3.123</td>\n      <td>4.847</td>\n      <td>6.261</td>\n      <td>4.313</td>\n      <td>3.532</td>\n      <td>7.980</td>\n      <td>9.301</td>\n      <td>7.248</td>\n      <td>5.773</td>\n    </tr>\n    <tr>\n      <th>G3</th>\n      <td>4.184</td>\n      <td>13.327</td>\n      <td>8.918</td>\n      <td>3.751</td>\n      <td>3.312</td>\n      <td>13.328</td>\n      <td>8.645</td>\n      <td>1.339</td>\n      <td>2.162</td>\n      <td>5.959</td>\n      <td>4.412</td>\n      <td>0.656</td>\n      <td>0.967</td>\n      <td>8.528</td>\n      <td>6.255</td>\n      <td>0.344</td>\n      <td>0.657</td>\n      <td>6.875</td>\n      <td>6.101</td>\n      <td>0.372</td>\n    </tr>\n    <tr>\n      <th>G4</th>\n      <td>4.539</td>\n      <td>4.934</td>\n      <td>2.780</td>\n      <td>3.297</td>\n      <td>5.377</td>\n      <td>5.178</td>\n      <td>2.943</td>\n      <td>3.203</td>\n      <td>4.695</td>\n      <td>4.261</td>\n      <td>2.659</td>\n      <td>3.382</td>\n      <td>5.645</td>\n      <td>7.570</td>\n      <td>5.108</td>\n      <td>4.158</td>\n      <td>7.088</td>\n      <td>10.997</td>\n      <td>7.328</td>\n      <td>4.859</td>\n    </tr>\n    <tr>\n      <th>G5</th>\n      <td>4.369</td>\n      <td>2.014</td>\n      <td>1.697</td>\n      <td>3.539</td>\n      <td>6.678</td>\n      <td>3.293</td>\n      <td>3.026</td>\n      <td>4.906</td>\n      <td>5.683</td>\n      <td>2.429</td>\n      <td>2.086</td>\n      <td>4.215</td>\n      <td>3.837</td>\n      <td>4.847</td>\n      <td>4.545</td>\n      <td>3.236</td>\n      <td>9.669</td>\n      <td>11.023</td>\n      <td>10.353</td>\n      <td>8.554</td>\n    </tr>\n  </tbody>\n</table>\n</div>"
          },
          "metadata": {}
        }
      ]
    },
    {
      "cell_type": "code",
      "source": [
        "import pandas as pd\n",
        "import numpy as np\n",
        "import matplotlib.pyplot as plt\n",
        "from sklearn.decomposition import PCA\n",
        "from sklearn.preprocessing import StandardScaler"
      ],
      "metadata": {
        "trusted": true,
        "id": "-vHKQtvPuRte"
      },
      "execution_count": null,
      "outputs": []
    },
    {
      "cell_type": "code",
      "source": [
        "df1 = df[df['Sensor'].isin(['S4_340', 'S3_325',  'S1_245'])]\n",
        "df1"
      ],
      "metadata": {
        "execution": {
          "iopub.status.busy": "2024-04-25T22:09:28.594363Z",
          "iopub.execute_input": "2024-04-25T22:09:28.594777Z",
          "iopub.status.idle": "2024-04-25T22:09:28.611152Z",
          "shell.execute_reply.started": "2024-04-25T22:09:28.594741Z",
          "shell.execute_reply": "2024-04-25T22:09:28.609865Z"
        },
        "trusted": true,
        "id": "eAQ8jwcquRte",
        "outputId": "a1154f56-28ac-4678-d342-68f8ea4f2e11"
      },
      "execution_count": null,
      "outputs": [
        {
          "execution_count": 51,
          "output_type": "execute_result",
          "data": {
            "text/plain": "    Num  Sensor     G1     G2     G3     G4     G5\n0     1  S1_245  6.151  6.199  4.184  4.539  4.369\n14   15  S3_325  4.504  4.313  6.255  5.108  4.545\n19   20  S4_340  6.013  5.773  0.372  4.859  8.554",
            "text/html": "<div>\n<style scoped>\n    .dataframe tbody tr th:only-of-type {\n        vertical-align: middle;\n    }\n\n    .dataframe tbody tr th {\n        vertical-align: top;\n    }\n\n    .dataframe thead th {\n        text-align: right;\n    }\n</style>\n<table border=\"1\" class=\"dataframe\">\n  <thead>\n    <tr style=\"text-align: right;\">\n      <th></th>\n      <th>Num</th>\n      <th>Sensor</th>\n      <th>G1</th>\n      <th>G2</th>\n      <th>G3</th>\n      <th>G4</th>\n      <th>G5</th>\n    </tr>\n  </thead>\n  <tbody>\n    <tr>\n      <th>0</th>\n      <td>1</td>\n      <td>S1_245</td>\n      <td>6.151</td>\n      <td>6.199</td>\n      <td>4.184</td>\n      <td>4.539</td>\n      <td>4.369</td>\n    </tr>\n    <tr>\n      <th>14</th>\n      <td>15</td>\n      <td>S3_325</td>\n      <td>4.504</td>\n      <td>4.313</td>\n      <td>6.255</td>\n      <td>5.108</td>\n      <td>4.545</td>\n    </tr>\n    <tr>\n      <th>19</th>\n      <td>20</td>\n      <td>S4_340</td>\n      <td>6.013</td>\n      <td>5.773</td>\n      <td>0.372</td>\n      <td>4.859</td>\n      <td>8.554</td>\n    </tr>\n  </tbody>\n</table>\n</div>"
          },
          "metadata": {}
        }
      ]
    },
    {
      "cell_type": "code",
      "source": [
        "df_melted = df1.melt(id_vars='Sensor', value_vars=['G1', 'G2', 'G3', 'G4', 'G5'], var_name='Gas', value_name='Reading')\n",
        "\n",
        "# Step 2: Pivot the DataFrame to make 'Sensor' values into columns\n",
        "df_pivoted = df_melted.pivot(index='Gas', columns='Sensor', values='Reading')\n",
        "df_pivoted.reset_index(inplace=True)\n",
        "df_pivoted"
      ],
      "metadata": {
        "execution": {
          "iopub.status.busy": "2024-04-25T22:07:14.558913Z",
          "iopub.execute_input": "2024-04-25T22:07:14.559428Z",
          "iopub.status.idle": "2024-04-25T22:07:14.586885Z",
          "shell.execute_reply.started": "2024-04-25T22:07:14.559386Z",
          "shell.execute_reply": "2024-04-25T22:07:14.58569Z"
        },
        "trusted": true,
        "id": "XEEQbhGtuRtf",
        "outputId": "4b496312-9317-4b49-c969-e64378a2cf9a"
      },
      "execution_count": null,
      "outputs": [
        {
          "execution_count": 47,
          "output_type": "execute_result",
          "data": {
            "text/plain": "Sensor Gas  S1_245  S2_245  S3_245\n0       G1   6.151   5.280   3.355\n1       G2   6.199   5.042   3.279\n2       G3   4.184  13.327   8.918\n3       G4   4.539   4.934   2.780\n4       G5   4.369   2.014   1.697",
            "text/html": "<div>\n<style scoped>\n    .dataframe tbody tr th:only-of-type {\n        vertical-align: middle;\n    }\n\n    .dataframe tbody tr th {\n        vertical-align: top;\n    }\n\n    .dataframe thead th {\n        text-align: right;\n    }\n</style>\n<table border=\"1\" class=\"dataframe\">\n  <thead>\n    <tr style=\"text-align: right;\">\n      <th>Sensor</th>\n      <th>Gas</th>\n      <th>S1_245</th>\n      <th>S2_245</th>\n      <th>S3_245</th>\n    </tr>\n  </thead>\n  <tbody>\n    <tr>\n      <th>0</th>\n      <td>G1</td>\n      <td>6.151</td>\n      <td>5.280</td>\n      <td>3.355</td>\n    </tr>\n    <tr>\n      <th>1</th>\n      <td>G2</td>\n      <td>6.199</td>\n      <td>5.042</td>\n      <td>3.279</td>\n    </tr>\n    <tr>\n      <th>2</th>\n      <td>G3</td>\n      <td>4.184</td>\n      <td>13.327</td>\n      <td>8.918</td>\n    </tr>\n    <tr>\n      <th>3</th>\n      <td>G4</td>\n      <td>4.539</td>\n      <td>4.934</td>\n      <td>2.780</td>\n    </tr>\n    <tr>\n      <th>4</th>\n      <td>G5</td>\n      <td>4.369</td>\n      <td>2.014</td>\n      <td>1.697</td>\n    </tr>\n  </tbody>\n</table>\n</div>"
          },
          "metadata": {}
        }
      ]
    },
    {
      "cell_type": "code",
      "source": [
        "import pandas as pd\n",
        "import numpy as np\n",
        "import matplotlib.pyplot as plt\n",
        "from sklearn.decomposition import PCA\n",
        "from sklearn.preprocessing import StandardScaler\n",
        "\n",
        "scaler = StandardScaler()\n",
        "scaled_means = scaler.fit_transform(df_pivoted.drop(columns='Gas'))\n",
        "\n",
        "# Apply PCA (2 components)\n",
        "pca = PCA(n_components=2)\n",
        "pca_result = pca.fit_transform(scaled_means)\n",
        "\n",
        "# Create a dataframe for the PCA results with gas labels\n",
        "pca_df = pd.DataFrame({\n",
        "    'PC1': pca_result[:, 0],\n",
        "    'PC2': pca_result[:, 1],\n",
        "    'Gas': df_pivoted['Gas']\n",
        "})\n",
        "\n",
        "# Plotting the PCA results with one point for each gas\n",
        "colors = {'G1': 'red', 'G2': 'green', 'G3': 'blue', 'G4': 'orange', 'G5': 'purple'}\n",
        "\n",
        "plt.figure(figsize=(10, 8))\n",
        "for gas, color in colors.items():\n",
        "    gas_point = pca_df[pca_df['Gas'] == gas]\n",
        "    plt.scatter(gas_point['PC1'], gas_point['PC2'], c=color, label=gas, s=100)  # s=100 for larger points\n",
        "\n",
        "plt.xlabel('Principal Component 1')\n",
        "plt.ylabel('Principal Component 2')\n",
        "plt.title('PCA of Sensor Data (One Point for Each Gas)')\n",
        "plt.legend()\n",
        "plt.show()\n"
      ],
      "metadata": {
        "execution": {
          "iopub.status.busy": "2024-04-25T22:07:19.983508Z",
          "iopub.execute_input": "2024-04-25T22:07:19.984109Z",
          "iopub.status.idle": "2024-04-25T22:07:20.514509Z",
          "shell.execute_reply.started": "2024-04-25T22:07:19.984051Z",
          "shell.execute_reply": "2024-04-25T22:07:20.513142Z"
        },
        "trusted": true,
        "id": "hdwP-fhfuRtf",
        "outputId": "3ff5d050-0174-4a33-bd7e-023b5e37972b"
      },
      "execution_count": null,
      "outputs": [
        {
          "output_type": "display_data",
          "data": {
            "text/plain": "<Figure size 1000x800 with 1 Axes>",
            "image/png": "[encoded data removed]"
          },
          "metadata": {}
        }
      ]
    },
    {
      "cell_type": "code",
      "source": [
        "# Import necessary libraries\n",
        "import pandas as pd\n",
        "import numpy as np\n",
        "from scipy.spatial import distance\n",
        "import matplotlib.pyplot as plt\n",
        "from sklearn.decomposition import PCA\n",
        "from sklearn.preprocessing import StandardScaler\n",
        "\n",
        "# Assuming df_pivoted is already defined with 'Gas' and sensor data\n",
        "# Standardize data and apply PCA\n",
        "scaler = StandardScaler()\n",
        "scaled_data = scaler.fit_transform(df_pivoted.drop(columns='Gas'))\n",
        "\n",
        "pca = PCA(n_components=2)\n",
        "pca_result = pca.fit_transform(scaled_data)\n",
        "\n",
        "# Calculate pairwise Euclidean distances\n",
        "euclidean_distances = distance.pdist(pca_result, metric='euclidean')  # Pairwise distances\n",
        "\n",
        "# Convert to a square matrix\n",
        "distance_matrix = distance.squareform(euclidean_distances)\n",
        "\n",
        "# Create a DataFrame for distances with 'Gas' as row and column labels\n",
        "df_distances = pd.DataFrame(\n",
        "    distance_matrix,\n",
        "    index=pca_df['Gas'],\n",
        "    columns=pca_df['Gas']\n",
        ")\n",
        "\n",
        "# List to store formatted distances\n",
        "formatted_distances = []\n",
        "\n",
        "# Iterate through the upper triangular part of the distance matrix\n",
        "for i in range(len(df_distances)):\n",
        "    for j in range(i + 1, len(df_distances)):  # Ensures each pair is only listed once\n",
        "        # Create a gas pair string\n",
        "        gas_pair = f\"{df_distances.index[i]}-{df_distances.columns[j]}\"\n",
        "        # Get the distance\n",
        "        distance_value = df_distances.iloc[i, j]\n",
        "        # Add to the formatted list\n",
        "        formatted_distances.append(f\"{gas_pair}: {distance_value:.2f}\")  # Distance rounded to two decimal places\n",
        "\n",
        "# Print formatted distances\n",
        "print(\"Euclidean distances between gas pairs:\")\n",
        "for fd in formatted_distances:\n",
        "    print(fd)\n"
      ],
      "metadata": {
        "execution": {
          "iopub.status.busy": "2024-04-25T22:07:26.601017Z",
          "iopub.execute_input": "2024-04-25T22:07:26.602203Z",
          "iopub.status.idle": "2024-04-25T22:07:26.622573Z",
          "shell.execute_reply.started": "2024-04-25T22:07:26.602163Z",
          "shell.execute_reply": "2024-04-25T22:07:26.62101Z"
        },
        "trusted": true,
        "id": "IE8g_YbduRtg",
        "outputId": "d5b154b6-9fd7-41ab-c280-399eb94d5227"
      },
      "execution_count": null,
      "outputs": [
        {
          "name": "stdout",
          "text": "Euclidean distances between gas pairs:\nG1-G2: 0.08\nG1-G3: 3.77\nG1-G4: 1.81\nG1-G5: 2.26\nG2-G3: 3.85\nG2-G4: 1.86\nG2-G5: 2.28\nG3-G4: 3.30\nG3-G5: 4.13\nG4-G5: 0.87\n",
          "output_type": "stream"
        }
      ]
    }
  ]
}